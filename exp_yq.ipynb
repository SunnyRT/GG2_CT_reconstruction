{
 "cells": [
  {
   "cell_type": "code",
   "execution_count": 8,
   "metadata": {},
   "outputs": [],
   "source": [
    "import matplotlib.pyplot as plt\n",
    "import numpy.matlib\n",
    "import numpy as np\n",
    "import scipy\n",
    "import math\n",
    "import pydicom\n",
    "import ipywidgets as widgets\n",
    "import os\n",
    "from IPython.display import display\n",
    "\n",
    "\n",
    "from material import *\n",
    "from source import *\n",
    "from attenuate import *\n",
    "from ct_detect import *\n",
    "from fake_source import *\n",
    "from ct_phantom import *\n",
    "from ct_lib import *\n",
    "from ct_scan import *\n",
    "from ct_calibrate import *\n",
    "from back_project import *\n",
    "from scan_and_reconstruct import *\n",
    "from create_dicom import *\n",
    "from xtreme import *\n",
    "from ct_interface import *\n",
    "from ct_test_example import *"
   ]
  },
  {
   "cell_type": "code",
   "execution_count": 2,
   "metadata": {},
   "outputs": [],
   "source": [
    "material = Material()\n",
    "source = Source()"
   ]
  },
  {
   "cell_type": "code",
   "execution_count": 10,
   "metadata": {},
   "outputs": [
    {
     "name": "stdout",
     "output_type": "stream",
     "text": [
      "Scanning angle: 256   \n",
      "Ramp filtering\n",
      "Reconstructing angle: 256   \n"
     ]
    }
   ],
   "source": [
    "test_1(1)"
   ]
  },
  {
   "cell_type": "code",
   "execution_count": null,
   "metadata": {},
   "outputs": [],
   "source": [
    "p = ct_phantom(material.name, 256, 3)\n",
    "\t\n",
    "# convert phantom where each pixel stores material index to attenuation coefficient mu at the peak energy value\n",
    "peak_energy = 0.07 # MeV\n",
    "p_mu = phantom_mu(p, material, peak_energy)\n",
    "\n",
    "s = source.photon('100kVp, 3mm Al')\n",
    "y = scan_and_reconstruct(s, material, p, 0.01, 32)\n",
    "draw(y)"
   ]
  }
 ],
 "metadata": {
  "kernelspec": {
   "display_name": "GG2_env",
   "language": "python",
   "name": "python3"
  },
  "language_info": {
   "codemirror_mode": {
    "name": "ipython",
    "version": 3
   },
   "file_extension": ".py",
   "mimetype": "text/x-python",
   "name": "python",
   "nbconvert_exporter": "python",
   "pygments_lexer": "ipython3",
   "version": "3.11.9"
  }
 },
 "nbformat": 4,
 "nbformat_minor": 2
}
