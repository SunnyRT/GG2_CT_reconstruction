{
 "cells": [
  {
   "cell_type": "code",
   "execution_count": 1,
   "metadata": {},
   "outputs": [
    {
     "name": "stdout",
     "output_type": "stream",
     "text": [
      "Intel MKL WARNING: Support of Intel(R) Streaming SIMD Extensions 4.2 (Intel(R) SSE4.2) enabled only processors has been deprecated. Intel oneAPI Math Kernel Library 2025.0 will require Intel(R) Advanced Vector Extensions (Intel(R) AVX) instructions.\n",
      "Intel MKL WARNING: Support of Intel(R) Streaming SIMD Extensions 4.2 (Intel(R) SSE4.2) enabled only processors has been deprecated. Intel oneAPI Math Kernel Library 2025.0 will require Intel(R) Advanced Vector Extensions (Intel(R) AVX) instructions.\n"
     ]
    }
   ],
   "source": [
    "import matplotlib.pyplot as plt\n",
    "import numpy.matlib\n",
    "import numpy as np\n",
    "import scipy\n",
    "import math\n",
    "import pydicom\n",
    "import ipywidgets as widgets\n",
    "import os\n",
    "from IPython.display import display\n",
    "\n",
    "from material import *\n",
    "from source import *\n",
    "from attenuate import *\n",
    "from ct_detect import *\n",
    "from fake_source import *\n",
    "from ct_phantom import *\n",
    "from ct_lib import *\n",
    "from ct_scan import *\n",
    "from ct_calibrate import *\n",
    "from back_project import *\n",
    "from scan_and_reconstruct import *\n",
    "from create_dicom import *\n",
    "from xtreme import *\n",
    "from ct_interface import *\n",
    "from ct_test_example import *"
   ]
  },
  {
   "cell_type": "code",
   "execution_count": 3,
   "metadata": {},
   "outputs": [
    {
     "data": {
      "application/vnd.jupyter.widget-view+json": {
       "model_id": "2c8da267404b4ecfbb2e5555d14b1f24",
       "version_major": 2,
       "version_minor": 0
      },
      "text/plain": [
       "Dropdown(description='Test:', options=(('Select a test', ''), ('test_1(plot)', 1), ('test_2(mean value)', 2), …"
      ]
     },
     "metadata": {},
     "output_type": "display_data"
    },
    {
     "data": {
      "application/vnd.jupyter.widget-view+json": {
       "model_id": "b663a09244ce4565b80473200f31609b",
       "version_major": 2,
       "version_minor": 0
      },
      "text/plain": [
       "Dropdown(description='Pic:', options=(('Select a pic', ''), ('pic_1', 1), ('pic_2', 2), ('pic_3', 3)), value='…"
      ]
     },
     "metadata": {},
     "output_type": "display_data"
    },
    {
     "data": {
      "application/vnd.jupyter.widget-view+json": {
       "model_id": "f0de419b034742adb33a6b3b34511d2c",
       "version_major": 2,
       "version_minor": 0
      },
      "text/plain": [
       "Dropdown(description='Source:', options=(('Select a source', ''), ('100kVp, 1mm Al', 1), ('100kVp, 2mm Al', 2)…"
      ]
     },
     "metadata": {},
     "output_type": "display_data"
    },
    {
     "data": {
      "application/vnd.jupyter.widget-view+json": {
       "model_id": "a49d2a0ac12348bdbf614fcd32fb30d9",
       "version_major": 2,
       "version_minor": 0
      },
      "text/plain": [
       "Button(description='Submit', icon='check', style=ButtonStyle(), tooltip='Click to submit')"
      ]
     },
     "metadata": {},
     "output_type": "display_data"
    },
    {
     "name": "stdout",
     "output_type": "stream",
     "text": [
      "Scanning angle: 256   \n"
     ]
    },
    {
     "ename": "ValueError",
     "evalue": "input depth has different number of samples to input original_energy",
     "output_type": "error",
     "traceback": [
      "\u001b[0;31m---------------------------------------------------------------------------\u001b[0m",
      "\u001b[0;31mValueError\u001b[0m                                Traceback (most recent call last)",
      "Cell \u001b[0;32mIn[3], line 57\u001b[0m, in \u001b[0;36mmain_interface.<locals>.on_submit_button_clicked\u001b[0;34m(b)\u001b[0m\n\u001b[1;32m     55\u001b[0m \u001b[38;5;28;01mif\u001b[39;00m test_choice \u001b[38;5;241m==\u001b[39m \u001b[38;5;241m1\u001b[39m:\n\u001b[1;32m     56\u001b[0m     \u001b[38;5;28;01mif\u001b[39;00m pic_choice:\n\u001b[0;32m---> 57\u001b[0m         test_1(pic_choice)\n\u001b[1;32m     58\u001b[0m     \u001b[38;5;28;01melse\u001b[39;00m:\n\u001b[1;32m     59\u001b[0m         \u001b[38;5;28mprint\u001b[39m(\u001b[38;5;124m\"\u001b[39m\u001b[38;5;124mPlease select a pic.\u001b[39m\u001b[38;5;124m\"\u001b[39m)\n",
      "File \u001b[0;32m~/gg2_python/ct_test_example.py:35\u001b[0m, in \u001b[0;36mtest_1\u001b[0;34m(pic)\u001b[0m\n\u001b[1;32m     32\u001b[0m \t\tp_mu[i,j] \u001b[38;5;241m=\u001b[39m material\u001b[38;5;241m.\u001b[39mcoeff(material\u001b[38;5;241m.\u001b[39mname[\u001b[38;5;28mint\u001b[39m(p[i,j])])[peak_energy_idx]\n\u001b[1;32m     34\u001b[0m s \u001b[38;5;241m=\u001b[39m source\u001b[38;5;241m.\u001b[39mphoton(\u001b[38;5;124m'\u001b[39m\u001b[38;5;124m100kVp, 3mm Al\u001b[39m\u001b[38;5;124m'\u001b[39m)\n\u001b[0;32m---> 35\u001b[0m y \u001b[38;5;241m=\u001b[39m scan_and_reconstruct(s, material, p, \u001b[38;5;241m0.01\u001b[39m, \u001b[38;5;241m256\u001b[39m)\n\u001b[1;32m     37\u001b[0m \u001b[38;5;66;03m# plot the 1D cross-section of the reconstructed image\u001b[39;00m\n\u001b[1;32m     38\u001b[0m save_plot(y[\u001b[38;5;241m128\u001b[39m,:], \u001b[38;5;124m'\u001b[39m\u001b[38;5;124mresults\u001b[39m\u001b[38;5;124m'\u001b[39m, \u001b[38;5;124m'\u001b[39m\u001b[38;5;124mtest_1_p\u001b[39m\u001b[38;5;124m'\u001b[39m\u001b[38;5;241m+\u001b[39m \u001b[38;5;28mstr\u001b[39m(\u001b[38;5;28mint\u001b[39m(pic))\u001b[38;5;241m+\u001b[39m \u001b[38;5;124m'\u001b[39m\u001b[38;5;124m_plot\u001b[39m\u001b[38;5;124m'\u001b[39m)\n",
      "File \u001b[0;32m~/gg2_python/scan_and_reconstruct.py:31\u001b[0m, in \u001b[0;36mscan_and_reconstruct\u001b[0;34m(photons, material, phantom, scale, angles, mas, alpha, reconstruct, with_filter)\u001b[0m\n\u001b[1;32m     27\u001b[0m sinogram \u001b[38;5;241m=\u001b[39m np\u001b[38;5;241m.\u001b[39mrandom\u001b[38;5;241m.\u001b[39mnormal(sinogram, np\u001b[38;5;241m.\u001b[39msqrt(sinogram))\n\u001b[1;32m     29\u001b[0m \u001b[38;5;66;03m# TODO:(RT)\u001b[39;00m\n\u001b[1;32m     30\u001b[0m \u001b[38;5;66;03m# convert detector values into calibrated attenuation values\u001b[39;00m\n\u001b[0;32m---> 31\u001b[0m sinogram \u001b[38;5;241m=\u001b[39m ct_calibrate(photons, material, sinogram, scale)\n\u001b[1;32m     33\u001b[0m \u001b[38;5;28;01mif\u001b[39;00m \u001b[38;5;129;01mnot\u001b[39;00m reconstruct:\n\u001b[1;32m     34\u001b[0m \t\u001b[38;5;28;01mreturn\u001b[39;00m sinogram\n",
      "File \u001b[0;32m~/gg2_python/ct_calibrate.py:56\u001b[0m, in \u001b[0;36mct_calibrate\u001b[0;34m(photons, material, sinogram, scale)\u001b[0m\n\u001b[1;32m     54\u001b[0m \u001b[38;5;66;03m# TODO: include beam hardening for water\u001b[39;00m\n\u001b[1;32m     55\u001b[0m t_w \u001b[38;5;241m=\u001b[39m np\u001b[38;5;241m.\u001b[39marange(\u001b[38;5;241m0\u001b[39m, \u001b[38;5;241m10.1\u001b[39m, \u001b[38;5;241m0.1\u001b[39m)\n\u001b[0;32m---> 56\u001b[0m p_w \u001b[38;5;241m=\u001b[39m attenuate(photons, material\u001b[38;5;241m.\u001b[39mcoeff(\u001b[38;5;124m'\u001b[39m\u001b[38;5;124mWater\u001b[39m\u001b[38;5;124m'\u001b[39m), t_w) \u001b[38;5;66;03m# attenuation of water for each thickness\u001b[39;00m\n\u001b[1;32m     57\u001b[0m \u001b[38;5;66;03m# Fit a function f to map p_w to t_w\u001b[39;00m\n\u001b[1;32m     58\u001b[0m f \u001b[38;5;241m=\u001b[39m interpolate\u001b[38;5;241m.\u001b[39minterp1d(p_w, t_w)\n",
      "File \u001b[0;32m~/gg2_python/attenuate.py:42\u001b[0m, in \u001b[0;36mattenuate\u001b[0;34m(original_energy, coeff, depth)\u001b[0m\n\u001b[1;32m     40\u001b[0m \t\u001b[38;5;28;01mraise\u001b[39;00m \u001b[38;5;167;01mValueError\u001b[39;00m(\u001b[38;5;124m'\u001b[39m\u001b[38;5;124minput depth has more than one dimension\u001b[39m\u001b[38;5;124m'\u001b[39m)\n\u001b[1;32m     41\u001b[0m \u001b[38;5;28;01mif\u001b[39;00m \u001b[38;5;28mlen\u001b[39m(depth) \u001b[38;5;241m!=\u001b[39m samples:\n\u001b[0;32m---> 42\u001b[0m \t\u001b[38;5;28;01mraise\u001b[39;00m \u001b[38;5;167;01mValueError\u001b[39;00m(\u001b[38;5;124m'\u001b[39m\u001b[38;5;124minput depth has different number of samples to input original_energy\u001b[39m\u001b[38;5;124m'\u001b[39m)\n\u001b[1;32m     44\u001b[0m \u001b[38;5;66;03m# # TODO: by RT\u001b[39;00m\n\u001b[1;32m     45\u001b[0m \u001b[38;5;66;03m# # Work out residual \u001b[39;00m\n\u001b[1;32m     46\u001b[0m \u001b[38;5;66;03m# # energy for each depth and at each energy\u001b[39;00m\n\u001b[0;32m   (...)\u001b[0m\n\u001b[1;32m     51\u001b[0m \n\u001b[1;32m     52\u001b[0m \u001b[38;5;66;03m# TODO: update by RT 19/05/2024\u001b[39;00m\n\u001b[1;32m     53\u001b[0m residual_energy \u001b[38;5;241m=\u001b[39m original_energy\u001b[38;5;241m*\u001b[39mnp\u001b[38;5;241m.\u001b[39mexp(\u001b[38;5;241m-\u001b[39mnp\u001b[38;5;241m.\u001b[39mmatmul(coeff\u001b[38;5;241m.\u001b[39mreshape(energies,\u001b[38;5;241m1\u001b[39m),depth\u001b[38;5;241m.\u001b[39mreshape(\u001b[38;5;241m1\u001b[39m,samples)))\t\n",
      "\u001b[0;31mValueError\u001b[0m: input depth has different number of samples to input original_energy"
     ]
    },
    {
     "name": "stdout",
     "output_type": "stream",
     "text": [
      "Scanning angle: 256   \n"
     ]
    },
    {
     "ename": "ValueError",
     "evalue": "input depth has different number of samples to input original_energy",
     "output_type": "error",
     "traceback": [
      "\u001b[0;31m---------------------------------------------------------------------------\u001b[0m",
      "\u001b[0;31mValueError\u001b[0m                                Traceback (most recent call last)",
      "Cell \u001b[0;32mIn[3], line 57\u001b[0m, in \u001b[0;36mmain_interface.<locals>.on_submit_button_clicked\u001b[0;34m(b)\u001b[0m\n\u001b[1;32m     55\u001b[0m \u001b[38;5;28;01mif\u001b[39;00m test_choice \u001b[38;5;241m==\u001b[39m \u001b[38;5;241m1\u001b[39m:\n\u001b[1;32m     56\u001b[0m     \u001b[38;5;28;01mif\u001b[39;00m pic_choice:\n\u001b[0;32m---> 57\u001b[0m         test_1(pic_choice)\n\u001b[1;32m     58\u001b[0m     \u001b[38;5;28;01melse\u001b[39;00m:\n\u001b[1;32m     59\u001b[0m         \u001b[38;5;28mprint\u001b[39m(\u001b[38;5;124m\"\u001b[39m\u001b[38;5;124mPlease select a pic.\u001b[39m\u001b[38;5;124m\"\u001b[39m)\n",
      "File \u001b[0;32m~/gg2_python/ct_test_example.py:35\u001b[0m, in \u001b[0;36mtest_1\u001b[0;34m(pic)\u001b[0m\n\u001b[1;32m     32\u001b[0m \t\tp_mu[i,j] \u001b[38;5;241m=\u001b[39m material\u001b[38;5;241m.\u001b[39mcoeff(material\u001b[38;5;241m.\u001b[39mname[\u001b[38;5;28mint\u001b[39m(p[i,j])])[peak_energy_idx]\n\u001b[1;32m     34\u001b[0m s \u001b[38;5;241m=\u001b[39m source\u001b[38;5;241m.\u001b[39mphoton(\u001b[38;5;124m'\u001b[39m\u001b[38;5;124m100kVp, 3mm Al\u001b[39m\u001b[38;5;124m'\u001b[39m)\n\u001b[0;32m---> 35\u001b[0m y \u001b[38;5;241m=\u001b[39m scan_and_reconstruct(s, material, p, \u001b[38;5;241m0.01\u001b[39m, \u001b[38;5;241m256\u001b[39m)\n\u001b[1;32m     37\u001b[0m \u001b[38;5;66;03m# plot the 1D cross-section of the reconstructed image\u001b[39;00m\n\u001b[1;32m     38\u001b[0m save_plot(y[\u001b[38;5;241m128\u001b[39m,:], \u001b[38;5;124m'\u001b[39m\u001b[38;5;124mresults\u001b[39m\u001b[38;5;124m'\u001b[39m, \u001b[38;5;124m'\u001b[39m\u001b[38;5;124mtest_1_p\u001b[39m\u001b[38;5;124m'\u001b[39m\u001b[38;5;241m+\u001b[39m \u001b[38;5;28mstr\u001b[39m(\u001b[38;5;28mint\u001b[39m(pic))\u001b[38;5;241m+\u001b[39m \u001b[38;5;124m'\u001b[39m\u001b[38;5;124m_plot\u001b[39m\u001b[38;5;124m'\u001b[39m)\n",
      "File \u001b[0;32m~/gg2_python/scan_and_reconstruct.py:31\u001b[0m, in \u001b[0;36mscan_and_reconstruct\u001b[0;34m(photons, material, phantom, scale, angles, mas, alpha, reconstruct, with_filter)\u001b[0m\n\u001b[1;32m     27\u001b[0m sinogram \u001b[38;5;241m=\u001b[39m np\u001b[38;5;241m.\u001b[39mrandom\u001b[38;5;241m.\u001b[39mnormal(sinogram, np\u001b[38;5;241m.\u001b[39msqrt(sinogram))\n\u001b[1;32m     29\u001b[0m \u001b[38;5;66;03m# TODO:(RT)\u001b[39;00m\n\u001b[1;32m     30\u001b[0m \u001b[38;5;66;03m# convert detector values into calibrated attenuation values\u001b[39;00m\n\u001b[0;32m---> 31\u001b[0m sinogram \u001b[38;5;241m=\u001b[39m ct_calibrate(photons, material, sinogram, scale)\n\u001b[1;32m     33\u001b[0m \u001b[38;5;28;01mif\u001b[39;00m \u001b[38;5;129;01mnot\u001b[39;00m reconstruct:\n\u001b[1;32m     34\u001b[0m \t\u001b[38;5;28;01mreturn\u001b[39;00m sinogram\n",
      "File \u001b[0;32m~/gg2_python/ct_calibrate.py:56\u001b[0m, in \u001b[0;36mct_calibrate\u001b[0;34m(photons, material, sinogram, scale)\u001b[0m\n\u001b[1;32m     54\u001b[0m \u001b[38;5;66;03m# TODO: include beam hardening for water\u001b[39;00m\n\u001b[1;32m     55\u001b[0m t_w \u001b[38;5;241m=\u001b[39m np\u001b[38;5;241m.\u001b[39marange(\u001b[38;5;241m0\u001b[39m, \u001b[38;5;241m10.1\u001b[39m, \u001b[38;5;241m0.1\u001b[39m)\n\u001b[0;32m---> 56\u001b[0m p_w \u001b[38;5;241m=\u001b[39m attenuate(photons, material\u001b[38;5;241m.\u001b[39mcoeff(\u001b[38;5;124m'\u001b[39m\u001b[38;5;124mWater\u001b[39m\u001b[38;5;124m'\u001b[39m), t_w) \u001b[38;5;66;03m# attenuation of water for each thickness\u001b[39;00m\n\u001b[1;32m     57\u001b[0m \u001b[38;5;66;03m# Fit a function f to map p_w to t_w\u001b[39;00m\n\u001b[1;32m     58\u001b[0m f \u001b[38;5;241m=\u001b[39m interpolate\u001b[38;5;241m.\u001b[39minterp1d(p_w, t_w)\n",
      "File \u001b[0;32m~/gg2_python/attenuate.py:42\u001b[0m, in \u001b[0;36mattenuate\u001b[0;34m(original_energy, coeff, depth)\u001b[0m\n\u001b[1;32m     40\u001b[0m \t\u001b[38;5;28;01mraise\u001b[39;00m \u001b[38;5;167;01mValueError\u001b[39;00m(\u001b[38;5;124m'\u001b[39m\u001b[38;5;124minput depth has more than one dimension\u001b[39m\u001b[38;5;124m'\u001b[39m)\n\u001b[1;32m     41\u001b[0m \u001b[38;5;28;01mif\u001b[39;00m \u001b[38;5;28mlen\u001b[39m(depth) \u001b[38;5;241m!=\u001b[39m samples:\n\u001b[0;32m---> 42\u001b[0m \t\u001b[38;5;28;01mraise\u001b[39;00m \u001b[38;5;167;01mValueError\u001b[39;00m(\u001b[38;5;124m'\u001b[39m\u001b[38;5;124minput depth has different number of samples to input original_energy\u001b[39m\u001b[38;5;124m'\u001b[39m)\n\u001b[1;32m     44\u001b[0m \u001b[38;5;66;03m# # TODO: by RT\u001b[39;00m\n\u001b[1;32m     45\u001b[0m \u001b[38;5;66;03m# # Work out residual \u001b[39;00m\n\u001b[1;32m     46\u001b[0m \u001b[38;5;66;03m# # energy for each depth and at each energy\u001b[39;00m\n\u001b[0;32m   (...)\u001b[0m\n\u001b[1;32m     51\u001b[0m \n\u001b[1;32m     52\u001b[0m \u001b[38;5;66;03m# TODO: update by RT 19/05/2024\u001b[39;00m\n\u001b[1;32m     53\u001b[0m residual_energy \u001b[38;5;241m=\u001b[39m original_energy\u001b[38;5;241m*\u001b[39mnp\u001b[38;5;241m.\u001b[39mexp(\u001b[38;5;241m-\u001b[39mnp\u001b[38;5;241m.\u001b[39mmatmul(coeff\u001b[38;5;241m.\u001b[39mreshape(energies,\u001b[38;5;241m1\u001b[39m),depth\u001b[38;5;241m.\u001b[39mreshape(\u001b[38;5;241m1\u001b[39m,samples)))\t\n",
      "\u001b[0;31mValueError\u001b[0m: input depth has different number of samples to input original_energy"
     ]
    },
    {
     "name": "stdout",
     "output_type": "stream",
     "text": [
      "Scanning angle: 256   \n"
     ]
    },
    {
     "ename": "ValueError",
     "evalue": "input depth has different number of samples to input original_energy",
     "output_type": "error",
     "traceback": [
      "\u001b[0;31m---------------------------------------------------------------------------\u001b[0m",
      "\u001b[0;31mValueError\u001b[0m                                Traceback (most recent call last)",
      "Cell \u001b[0;32mIn[3], line 57\u001b[0m, in \u001b[0;36mmain_interface.<locals>.on_submit_button_clicked\u001b[0;34m(b)\u001b[0m\n\u001b[1;32m     55\u001b[0m \u001b[38;5;28;01mif\u001b[39;00m test_choice \u001b[38;5;241m==\u001b[39m \u001b[38;5;241m1\u001b[39m:\n\u001b[1;32m     56\u001b[0m     \u001b[38;5;28;01mif\u001b[39;00m pic_choice:\n\u001b[0;32m---> 57\u001b[0m         test_1(pic_choice)\n\u001b[1;32m     58\u001b[0m     \u001b[38;5;28;01melse\u001b[39;00m:\n\u001b[1;32m     59\u001b[0m         \u001b[38;5;28mprint\u001b[39m(\u001b[38;5;124m\"\u001b[39m\u001b[38;5;124mPlease select a pic.\u001b[39m\u001b[38;5;124m\"\u001b[39m)\n",
      "File \u001b[0;32m~/gg2_python/ct_test_example.py:35\u001b[0m, in \u001b[0;36mtest_1\u001b[0;34m(pic)\u001b[0m\n\u001b[1;32m     32\u001b[0m \t\tp_mu[i,j] \u001b[38;5;241m=\u001b[39m material\u001b[38;5;241m.\u001b[39mcoeff(material\u001b[38;5;241m.\u001b[39mname[\u001b[38;5;28mint\u001b[39m(p[i,j])])[peak_energy_idx]\n\u001b[1;32m     34\u001b[0m s \u001b[38;5;241m=\u001b[39m source\u001b[38;5;241m.\u001b[39mphoton(\u001b[38;5;124m'\u001b[39m\u001b[38;5;124m100kVp, 3mm Al\u001b[39m\u001b[38;5;124m'\u001b[39m)\n\u001b[0;32m---> 35\u001b[0m y \u001b[38;5;241m=\u001b[39m scan_and_reconstruct(s, material, p, \u001b[38;5;241m0.01\u001b[39m, \u001b[38;5;241m256\u001b[39m)\n\u001b[1;32m     37\u001b[0m \u001b[38;5;66;03m# plot the 1D cross-section of the reconstructed image\u001b[39;00m\n\u001b[1;32m     38\u001b[0m save_plot(y[\u001b[38;5;241m128\u001b[39m,:], \u001b[38;5;124m'\u001b[39m\u001b[38;5;124mresults\u001b[39m\u001b[38;5;124m'\u001b[39m, \u001b[38;5;124m'\u001b[39m\u001b[38;5;124mtest_1_p\u001b[39m\u001b[38;5;124m'\u001b[39m\u001b[38;5;241m+\u001b[39m \u001b[38;5;28mstr\u001b[39m(\u001b[38;5;28mint\u001b[39m(pic))\u001b[38;5;241m+\u001b[39m \u001b[38;5;124m'\u001b[39m\u001b[38;5;124m_plot\u001b[39m\u001b[38;5;124m'\u001b[39m)\n",
      "File \u001b[0;32m~/gg2_python/scan_and_reconstruct.py:31\u001b[0m, in \u001b[0;36mscan_and_reconstruct\u001b[0;34m(photons, material, phantom, scale, angles, mas, alpha, reconstruct, with_filter)\u001b[0m\n\u001b[1;32m     27\u001b[0m sinogram \u001b[38;5;241m=\u001b[39m np\u001b[38;5;241m.\u001b[39mrandom\u001b[38;5;241m.\u001b[39mnormal(sinogram, np\u001b[38;5;241m.\u001b[39msqrt(sinogram))\n\u001b[1;32m     29\u001b[0m \u001b[38;5;66;03m# TODO:(RT)\u001b[39;00m\n\u001b[1;32m     30\u001b[0m \u001b[38;5;66;03m# convert detector values into calibrated attenuation values\u001b[39;00m\n\u001b[0;32m---> 31\u001b[0m sinogram \u001b[38;5;241m=\u001b[39m ct_calibrate(photons, material, sinogram, scale)\n\u001b[1;32m     33\u001b[0m \u001b[38;5;28;01mif\u001b[39;00m \u001b[38;5;129;01mnot\u001b[39;00m reconstruct:\n\u001b[1;32m     34\u001b[0m \t\u001b[38;5;28;01mreturn\u001b[39;00m sinogram\n",
      "File \u001b[0;32m~/gg2_python/ct_calibrate.py:56\u001b[0m, in \u001b[0;36mct_calibrate\u001b[0;34m(photons, material, sinogram, scale)\u001b[0m\n\u001b[1;32m     54\u001b[0m \u001b[38;5;66;03m# TODO: include beam hardening for water\u001b[39;00m\n\u001b[1;32m     55\u001b[0m t_w \u001b[38;5;241m=\u001b[39m np\u001b[38;5;241m.\u001b[39marange(\u001b[38;5;241m0\u001b[39m, \u001b[38;5;241m10.1\u001b[39m, \u001b[38;5;241m0.1\u001b[39m)\n\u001b[0;32m---> 56\u001b[0m p_w \u001b[38;5;241m=\u001b[39m attenuate(photons, material\u001b[38;5;241m.\u001b[39mcoeff(\u001b[38;5;124m'\u001b[39m\u001b[38;5;124mWater\u001b[39m\u001b[38;5;124m'\u001b[39m), t_w) \u001b[38;5;66;03m# attenuation of water for each thickness\u001b[39;00m\n\u001b[1;32m     57\u001b[0m \u001b[38;5;66;03m# Fit a function f to map p_w to t_w\u001b[39;00m\n\u001b[1;32m     58\u001b[0m f \u001b[38;5;241m=\u001b[39m interpolate\u001b[38;5;241m.\u001b[39minterp1d(p_w, t_w)\n",
      "File \u001b[0;32m~/gg2_python/attenuate.py:42\u001b[0m, in \u001b[0;36mattenuate\u001b[0;34m(original_energy, coeff, depth)\u001b[0m\n\u001b[1;32m     40\u001b[0m \t\u001b[38;5;28;01mraise\u001b[39;00m \u001b[38;5;167;01mValueError\u001b[39;00m(\u001b[38;5;124m'\u001b[39m\u001b[38;5;124minput depth has more than one dimension\u001b[39m\u001b[38;5;124m'\u001b[39m)\n\u001b[1;32m     41\u001b[0m \u001b[38;5;28;01mif\u001b[39;00m \u001b[38;5;28mlen\u001b[39m(depth) \u001b[38;5;241m!=\u001b[39m samples:\n\u001b[0;32m---> 42\u001b[0m \t\u001b[38;5;28;01mraise\u001b[39;00m \u001b[38;5;167;01mValueError\u001b[39;00m(\u001b[38;5;124m'\u001b[39m\u001b[38;5;124minput depth has different number of samples to input original_energy\u001b[39m\u001b[38;5;124m'\u001b[39m)\n\u001b[1;32m     44\u001b[0m \u001b[38;5;66;03m# # TODO: by RT\u001b[39;00m\n\u001b[1;32m     45\u001b[0m \u001b[38;5;66;03m# # Work out residual \u001b[39;00m\n\u001b[1;32m     46\u001b[0m \u001b[38;5;66;03m# # energy for each depth and at each energy\u001b[39;00m\n\u001b[0;32m   (...)\u001b[0m\n\u001b[1;32m     51\u001b[0m \n\u001b[1;32m     52\u001b[0m \u001b[38;5;66;03m# TODO: update by RT 19/05/2024\u001b[39;00m\n\u001b[1;32m     53\u001b[0m residual_energy \u001b[38;5;241m=\u001b[39m original_energy\u001b[38;5;241m*\u001b[39mnp\u001b[38;5;241m.\u001b[39mexp(\u001b[38;5;241m-\u001b[39mnp\u001b[38;5;241m.\u001b[39mmatmul(coeff\u001b[38;5;241m.\u001b[39mreshape(energies,\u001b[38;5;241m1\u001b[39m),depth\u001b[38;5;241m.\u001b[39mreshape(\u001b[38;5;241m1\u001b[39m,samples)))\t\n",
      "\u001b[0;31mValueError\u001b[0m: input depth has different number of samples to input original_energy"
     ]
    },
    {
     "name": "stdout",
     "output_type": "stream",
     "text": [
      "Scanning angle: 256   \n"
     ]
    },
    {
     "ename": "ValueError",
     "evalue": "input depth has different number of samples to input original_energy",
     "output_type": "error",
     "traceback": [
      "\u001b[0;31m---------------------------------------------------------------------------\u001b[0m",
      "\u001b[0;31mValueError\u001b[0m                                Traceback (most recent call last)",
      "Cell \u001b[0;32mIn[3], line 62\u001b[0m, in \u001b[0;36mmain_interface.<locals>.on_submit_button_clicked\u001b[0;34m(b)\u001b[0m\n\u001b[1;32m     59\u001b[0m         \u001b[38;5;28mprint\u001b[39m(\u001b[38;5;124m\"\u001b[39m\u001b[38;5;124mPlease select a pic.\u001b[39m\u001b[38;5;124m\"\u001b[39m)\n\u001b[1;32m     61\u001b[0m \u001b[38;5;28;01melif\u001b[39;00m test_choice \u001b[38;5;241m==\u001b[39m \u001b[38;5;241m2\u001b[39m:\n\u001b[0;32m---> 62\u001b[0m     test_2()\n\u001b[1;32m     64\u001b[0m \u001b[38;5;28;01melif\u001b[39;00m test_choice \u001b[38;5;241m==\u001b[39m \u001b[38;5;241m3\u001b[39m:\n\u001b[1;32m     65\u001b[0m     \u001b[38;5;28;01mif\u001b[39;00m pic_choice \u001b[38;5;129;01mand\u001b[39;00m source_choice:\n",
      "File \u001b[0;32m~/gg2_python/ct_test_example.py:66\u001b[0m, in \u001b[0;36mtest_2\u001b[0;34m()\u001b[0m\n\u001b[1;32m     64\u001b[0m \u001b[38;5;28;01mfor\u001b[39;00m (i,mat_name) \u001b[38;5;129;01min\u001b[39;00m \u001b[38;5;28menumerate\u001b[39m(mat_test):\n\u001b[1;32m     65\u001b[0m \tp \u001b[38;5;241m=\u001b[39m  ct_phantom(material\u001b[38;5;241m.\u001b[39mname, \u001b[38;5;241m256\u001b[39m, \u001b[38;5;241m1\u001b[39m, metal \u001b[38;5;241m=\u001b[39m mat_name)\n\u001b[0;32m---> 66\u001b[0m \ty \u001b[38;5;241m=\u001b[39m scan_and_reconstruct(s, material, p, \u001b[38;5;241m0.1\u001b[39m, \u001b[38;5;241m256\u001b[39m)\n\u001b[1;32m     67\u001b[0m \tresults[i] \u001b[38;5;241m=\u001b[39m np\u001b[38;5;241m.\u001b[39mmean(y[\u001b[38;5;241m64\u001b[39m:\u001b[38;5;241m192\u001b[39m, \u001b[38;5;241m64\u001b[39m:\u001b[38;5;241m192\u001b[39m])\n\u001b[1;32m     68\u001b[0m \t\u001b[38;5;28mprint\u001b[39m(\u001b[38;5;124m\"\u001b[39m\u001b[38;5;124mmeasured attenuation coefficient for \u001b[39m\u001b[38;5;124m\"\u001b[39m, mat_name, \u001b[38;5;124m\"\u001b[39m\u001b[38;5;124m is \u001b[39m\u001b[38;5;124m\"\u001b[39m, results[i])\n",
      "File \u001b[0;32m~/gg2_python/scan_and_reconstruct.py:31\u001b[0m, in \u001b[0;36mscan_and_reconstruct\u001b[0;34m(photons, material, phantom, scale, angles, mas, alpha, reconstruct, with_filter)\u001b[0m\n\u001b[1;32m     27\u001b[0m sinogram \u001b[38;5;241m=\u001b[39m np\u001b[38;5;241m.\u001b[39mrandom\u001b[38;5;241m.\u001b[39mnormal(sinogram, np\u001b[38;5;241m.\u001b[39msqrt(sinogram))\n\u001b[1;32m     29\u001b[0m \u001b[38;5;66;03m# TODO:(RT)\u001b[39;00m\n\u001b[1;32m     30\u001b[0m \u001b[38;5;66;03m# convert detector values into calibrated attenuation values\u001b[39;00m\n\u001b[0;32m---> 31\u001b[0m sinogram \u001b[38;5;241m=\u001b[39m ct_calibrate(photons, material, sinogram, scale)\n\u001b[1;32m     33\u001b[0m \u001b[38;5;28;01mif\u001b[39;00m \u001b[38;5;129;01mnot\u001b[39;00m reconstruct:\n\u001b[1;32m     34\u001b[0m \t\u001b[38;5;28;01mreturn\u001b[39;00m sinogram\n",
      "File \u001b[0;32m~/gg2_python/ct_calibrate.py:56\u001b[0m, in \u001b[0;36mct_calibrate\u001b[0;34m(photons, material, sinogram, scale)\u001b[0m\n\u001b[1;32m     54\u001b[0m \u001b[38;5;66;03m# TODO: include beam hardening for water\u001b[39;00m\n\u001b[1;32m     55\u001b[0m t_w \u001b[38;5;241m=\u001b[39m np\u001b[38;5;241m.\u001b[39marange(\u001b[38;5;241m0\u001b[39m, \u001b[38;5;241m10.1\u001b[39m, \u001b[38;5;241m0.1\u001b[39m)\n\u001b[0;32m---> 56\u001b[0m p_w \u001b[38;5;241m=\u001b[39m attenuate(photons, material\u001b[38;5;241m.\u001b[39mcoeff(\u001b[38;5;124m'\u001b[39m\u001b[38;5;124mWater\u001b[39m\u001b[38;5;124m'\u001b[39m), t_w) \u001b[38;5;66;03m# attenuation of water for each thickness\u001b[39;00m\n\u001b[1;32m     57\u001b[0m \u001b[38;5;66;03m# Fit a function f to map p_w to t_w\u001b[39;00m\n\u001b[1;32m     58\u001b[0m f \u001b[38;5;241m=\u001b[39m interpolate\u001b[38;5;241m.\u001b[39minterp1d(p_w, t_w)\n",
      "File \u001b[0;32m~/gg2_python/attenuate.py:42\u001b[0m, in \u001b[0;36mattenuate\u001b[0;34m(original_energy, coeff, depth)\u001b[0m\n\u001b[1;32m     40\u001b[0m \t\u001b[38;5;28;01mraise\u001b[39;00m \u001b[38;5;167;01mValueError\u001b[39;00m(\u001b[38;5;124m'\u001b[39m\u001b[38;5;124minput depth has more than one dimension\u001b[39m\u001b[38;5;124m'\u001b[39m)\n\u001b[1;32m     41\u001b[0m \u001b[38;5;28;01mif\u001b[39;00m \u001b[38;5;28mlen\u001b[39m(depth) \u001b[38;5;241m!=\u001b[39m samples:\n\u001b[0;32m---> 42\u001b[0m \t\u001b[38;5;28;01mraise\u001b[39;00m \u001b[38;5;167;01mValueError\u001b[39;00m(\u001b[38;5;124m'\u001b[39m\u001b[38;5;124minput depth has different number of samples to input original_energy\u001b[39m\u001b[38;5;124m'\u001b[39m)\n\u001b[1;32m     44\u001b[0m \u001b[38;5;66;03m# # TODO: by RT\u001b[39;00m\n\u001b[1;32m     45\u001b[0m \u001b[38;5;66;03m# # Work out residual \u001b[39;00m\n\u001b[1;32m     46\u001b[0m \u001b[38;5;66;03m# # energy for each depth and at each energy\u001b[39;00m\n\u001b[0;32m   (...)\u001b[0m\n\u001b[1;32m     51\u001b[0m \n\u001b[1;32m     52\u001b[0m \u001b[38;5;66;03m# TODO: update by RT 19/05/2024\u001b[39;00m\n\u001b[1;32m     53\u001b[0m residual_energy \u001b[38;5;241m=\u001b[39m original_energy\u001b[38;5;241m*\u001b[39mnp\u001b[38;5;241m.\u001b[39mexp(\u001b[38;5;241m-\u001b[39mnp\u001b[38;5;241m.\u001b[39mmatmul(coeff\u001b[38;5;241m.\u001b[39mreshape(energies,\u001b[38;5;241m1\u001b[39m),depth\u001b[38;5;241m.\u001b[39mreshape(\u001b[38;5;241m1\u001b[39m,samples)))\t\n",
      "\u001b[0;31mValueError\u001b[0m: input depth has different number of samples to input original_energy"
     ]
    }
   ],
   "source": [
    "import ipywidgets as widgets\n",
    "from IPython.display import display\n",
    "from ct_test_example import test_1, test_2, test_3\n",
    "\n",
    "def main_interface():\n",
    "    # 创建选择测试的下拉菜单\n",
    "    test_selector = widgets.Dropdown(\n",
    "        options=[('Select a test', ''), ('test_1(plot)', 1), ('test_2(mean value)', 2), ('test_3(variance of specific materials)', 3)],\n",
    "        description='Test:',\n",
    "        disabled=False,\n",
    "    )\n",
    "\n",
    "    # 创建选择图片的下拉菜单\n",
    "    pic_selector = widgets.Dropdown(\n",
    "        options=[('Select a pic', ''), ('pic_1', 1), ('pic_2', 2), ('pic_3', 3)],\n",
    "        description='Pic:',\n",
    "        disabled=False,\n",
    "    )\n",
    "\n",
    "    # 创建选择光源的下拉菜单\n",
    "    source_selector = widgets.Dropdown(\n",
    "        options=[\n",
    "            ('Select a source', ''), \n",
    "            ('100kVp, 1mm Al', 1), \n",
    "            ('100kVp, 2mm Al', 2), \n",
    "            ('100kVp, 3mm Al', 3), \n",
    "            ('100kVp, 4mm Al', 4),\n",
    "            ('80kVp, 1mm Al', 5), \n",
    "            ('80kVp, 2mm Al', 6), \n",
    "            ('80kVp, 3mm Al', 7), \n",
    "            ('80kVp, 4mm Al', 8)\n",
    "        ],\n",
    "        description='Source:',\n",
    "        disabled=False,\n",
    "    )\n",
    "\n",
    "    # 创建提交按钮\n",
    "    submit_button = widgets.Button(\n",
    "        description='Submit',\n",
    "        disabled=False,\n",
    "        button_style='', \n",
    "        tooltip='Click to submit',\n",
    "        icon='check' \n",
    "    )\n",
    "\n",
    "    # 显示控件\n",
    "    display(test_selector, pic_selector, source_selector, submit_button)\n",
    "\n",
    "    # 定义按钮点击事件的回调函数\n",
    "    def on_submit_button_clicked(b):\n",
    "        test_choice = test_selector.value\n",
    "        pic_choice = pic_selector.value\n",
    "        source_choice = source_selector.value\n",
    "\n",
    "        if test_choice == 1:\n",
    "            if pic_choice:\n",
    "                test_1(pic_choice)\n",
    "            else:\n",
    "                print(\"Please select a pic.\")\n",
    "\n",
    "        elif test_choice == 2:\n",
    "            test_2()\n",
    "\n",
    "        elif test_choice == 3:\n",
    "            if pic_choice and source_choice:\n",
    "                input_map = {\n",
    "                    1: \"100kVp, 1mm Al\",\n",
    "                    2: \"100kVp, 2mm Al\",\n",
    "                    3: \"100kVp, 3mm Al\",\n",
    "                    4: \"100kVp, 4mm Al\",\n",
    "                    5: \"80kVp, 1mm Al\",\n",
    "                    6: \"80kVp, 2mm Al\",\n",
    "                    7: \"80kVp, 3mm Al\",\n",
    "                    8: \"80kVp, 4mm Al\"\n",
    "                }\n",
    "                source = input_map.get(source_choice, \"Invalid input\")\n",
    "                if source != \"Invalid input\":\n",
    "                    test_3(pic_choice, source)\n",
    "                else:\n",
    "                    print(\"Invalid source selection.\")\n",
    "            else:\n",
    "                print(\"Please select both a pic and a source.\")\n",
    "\n",
    "        elif test_choice == '':\n",
    "            print(\"Please select a test.\")\n",
    "        else:\n",
    "            print(\"Invalid choice, please try again.\")\n",
    "\n",
    "    # 将回调函数绑定到按钮点击事件\n",
    "    submit_button.on_click(on_submit_button_clicked)\n",
    "\n",
    "main_interface()\n"
   ]
  }
 ],
 "metadata": {
  "kernelspec": {
   "display_name": "GG2CT",
   "language": "python",
   "name": "python3"
  },
  "language_info": {
   "codemirror_mode": {
    "name": "ipython",
    "version": 3
   },
   "file_extension": ".py",
   "mimetype": "text/x-python",
   "name": "python",
   "nbconvert_exporter": "python",
   "pygments_lexer": "ipython3",
   "version": "3.11.9"
  }
 },
 "nbformat": 4,
 "nbformat_minor": 2
}
