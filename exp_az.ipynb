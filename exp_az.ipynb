{
 "cells": [
  {
   "cell_type": "code",
   "execution_count": 1,
   "metadata": {},
   "outputs": [
    {
     "name": "stdout",
     "output_type": "stream",
     "text": [
      "Intel MKL WARNING: Support of Intel(R) Streaming SIMD Extensions 4.2 (Intel(R) SSE4.2) enabled only processors has been deprecated. Intel oneAPI Math Kernel Library 2025.0 will require Intel(R) Advanced Vector Extensions (Intel(R) AVX) instructions.\n",
      "Intel MKL WARNING: Support of Intel(R) Streaming SIMD Extensions 4.2 (Intel(R) SSE4.2) enabled only processors has been deprecated. Intel oneAPI Math Kernel Library 2025.0 will require Intel(R) Advanced Vector Extensions (Intel(R) AVX) instructions.\n"
     ]
    }
   ],
   "source": [
    "import matplotlib.pyplot as plt\n",
    "import numpy.matlib\n",
    "import numpy as np\n",
    "import scipy\n",
    "import math\n",
    "import pydicom\n",
    "import ipywidgets as widgets\n",
    "import os\n",
    "from IPython.display import display\n",
    "\n",
    "from material import *\n",
    "from source import *\n",
    "from attenuate import *\n",
    "from ct_detect import *\n",
    "from fake_source import *\n",
    "from ct_phantom import *\n",
    "from ct_lib import *\n",
    "from ct_scan import *\n",
    "from ct_calibrate import *\n",
    "from back_project import *\n",
    "from scan_and_reconstruct import *\n",
    "from create_dicom import *\n",
    "from xtreme import *\n",
    "from ct_interface import *\n",
    "from ct_test_example import *"
   ]
  },
  {
   "cell_type": "code",
   "execution_count": null,
   "metadata": {},
   "outputs": [
    {
     "data": {
      "application/vnd.jupyter.widget-view+json": {
       "model_id": "e888341de9ce42a4989093eb787df922",
       "version_major": 2,
       "version_minor": 0
      },
      "text/plain": [
       "Text(value='', description='文本框:', placeholder='请输入一些内容')"
      ]
     },
     "metadata": {},
     "output_type": "display_data"
    },
    {
     "data": {
      "application/vnd.jupyter.widget-view+json": {
       "model_id": "850be4de914f425faa47beffadbbe505",
       "version_major": 2,
       "version_minor": 0
      },
      "text/plain": [
       "Button(description='提交', icon='check', style=ButtonStyle(), tooltip='点击提交')"
      ]
     },
     "metadata": {},
     "output_type": "display_data"
    },
    {
     "name": "stdout",
     "output_type": "stream",
     "text": [
      "Please choose a test to proceed: \n",
      "1. test_1(plot)\n",
      "2. test_2(mean value)\n",
      "3. test_3(variance of specific materials)\n",
      "q. Quit\n",
      "Enter your choice: "
     ]
    }
   ],
   "source": [
    "import ipywidgets as widgets\n",
    "from IPython.display import display\n",
    "from ct_test_example import test_1, test_2, test_3\n",
    "\n",
    "def main_interface():\n",
    "    # 创建选择测试的下拉菜单\n",
    "    test_selector = widgets.Dropdown(\n",
    "        options=[('Select a test', ''), ('test_1(plot)', 1), ('test_2(mean value)', 2), ('test_3(variance of specific materials)', 3)],\n",
    "        description='Test:',\n",
    "        disabled=False,\n",
    "    )\n",
    "\n",
    "    # 创建选择图片的下拉菜单\n",
    "    pic_selector = widgets.Dropdown(\n",
    "        options=[('Select a pic', ''), ('pic_1', 1), ('pic_2', 2), ('pic_3', 3)],\n",
    "        description='Pic:',\n",
    "        disabled=False,\n",
    "    )\n",
    "\n",
    "    # 创建选择光源的下拉菜单\n",
    "    source_selector = widgets.Dropdown(\n",
    "        options=[\n",
    "            ('Select a source', ''), \n",
    "            ('100kVp, 1mm Al', 1), \n",
    "            ('100kVp, 2mm Al', 2), \n",
    "            ('100kVp, 3mm Al', 3), \n",
    "            ('100kVp, 4mm Al', 4),\n",
    "            ('80kVp, 1mm Al', 5), \n",
    "            ('80kVp, 2mm Al', 6), \n",
    "            ('80kVp, 3mm Al', 7), \n",
    "            ('80kVp, 4mm Al', 8)\n",
    "        ],\n",
    "        description='Source:',\n",
    "        disabled=False,\n",
    "    )\n",
    "\n",
    "    # 创建提交按钮\n",
    "    submit_button = widgets.Button(\n",
    "        description='Submit',\n",
    "        disabled=False,\n",
    "        button_style='', \n",
    "        tooltip='Click to submit',\n",
    "        icon='check' \n",
    "    )\n",
    "\n",
    "    # 显示控件\n",
    "    display(test_selector, pic_selector, source_selector, submit_button)\n",
    "\n",
    "    # 定义按钮点击事件的回调函数\n",
    "    def on_submit_button_clicked(b):\n",
    "        test_choice = test_selector.value\n",
    "        pic_choice = pic_selector.value\n",
    "        source_choice = source_selector.value\n",
    "\n",
    "        if test_choice == 1:\n",
    "            if pic_choice:\n",
    "                test_1(pic_choice)\n",
    "            else:\n",
    "                print(\"Please select a pic.\")\n",
    "\n",
    "        elif test_choice == 2:\n",
    "            test_2()\n",
    "\n",
    "        elif test_choice == 3:\n",
    "            if pic_choice and source_choice:\n",
    "                input_map = {\n",
    "                    1: \"100kVp, 1mm Al\",\n",
    "                    2: \"100kVp, 2mm Al\",\n",
    "                    3: \"100kVp, 3mm Al\",\n",
    "                    4: \"100kVp, 4mm Al\",\n",
    "                    5: \"80kVp, 1mm Al\",\n",
    "                    6: \"80kVp, 2mm Al\",\n",
    "                    7: \"80kVp, 3mm Al\",\n",
    "                    8: \"80kVp, 4mm Al\"\n",
    "                }\n",
    "                source = input_map.get(source_choice, \"Invalid input\")\n",
    "                if source != \"Invalid input\":\n",
    "                    test_3(pic_choice, source)\n",
    "                else:\n",
    "                    print(\"Invalid source selection.\")\n",
    "            else:\n",
    "                print(\"Please select both a pic and a source.\")\n",
    "\n",
    "        elif test_choice == '':\n",
    "            print(\"Please select a test.\")\n",
    "        else:\n",
    "            print(\"Invalid choice, please try again.\")\n",
    "\n",
    "    # 将回调函数绑定到按钮点击事件\n",
    "    submit_button.on_click(on_submit_button_clicked)\n",
    "\n",
    "main_interface()\n"
   ]
  }
 ],
 "metadata": {
  "kernelspec": {
   "display_name": "GG2CT",
   "language": "python",
   "name": "python3"
  },
  "language_info": {
   "codemirror_mode": {
    "name": "ipython",
    "version": 3
   },
   "file_extension": ".py",
   "mimetype": "text/x-python",
   "name": "python",
   "nbconvert_exporter": "python",
   "pygments_lexer": "ipython3",
   "version": "3.11.9"
  }
 },
 "nbformat": 4,
 "nbformat_minor": 2
}
